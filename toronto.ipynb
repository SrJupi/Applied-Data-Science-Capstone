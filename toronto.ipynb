{
 "cells": [
  {
   "cell_type": "markdown",
   "id": "b409791e-0d3c-46ed-aad2-d238b98f94f9",
   "metadata": {},
   "source": [
    "# Toronto Neighborhoods\n",
    "Notebook for Segmenting and Clustering Neighborhoods in Toronto class"
   ]
  },
  {
   "cell_type": "markdown",
   "id": "840c7354-94f4-4db6-ab7a-2a1a0b4d9d60",
   "metadata": {},
   "source": [
    "## Task 1: Scrapping data"
   ]
  },
  {
   "cell_type": "code",
   "execution_count": 5,
   "id": "c233c1a0-54be-4222-a842-378cc65f56db",
   "metadata": {
    "tags": [
     "hide-input"
    ]
   },
   "outputs": [
    {
     "name": "stdout",
     "output_type": "stream",
     "text": [
      "HI\n"
     ]
    }
   ],
   "source": [
    "print('HI')"
   ]
  },
  {
   "cell_type": "markdown",
   "id": "2a5b40a8-689f-4655-866c-2ab2ac49f1e2",
   "metadata": {},
   "source": [
    "## Task 2: Dataframe with lat/long"
   ]
  },
  {
   "cell_type": "code",
   "execution_count": null,
   "id": "adb2bccf-f647-4794-a5ee-5a425f0216e4",
   "metadata": {},
   "outputs": [],
   "source": []
  },
  {
   "cell_type": "markdown",
   "id": "36c14253-e39e-4be7-98bf-5fb43b58eb04",
   "metadata": {
    "tags": []
   },
   "source": [
    "## Task 3: Explore and cluster the neighborhoods in Toronto"
   ]
  },
  {
   "cell_type": "code",
   "execution_count": null,
   "id": "1d87d76b-a3e0-40e6-bfd6-2577fdde1329",
   "metadata": {},
   "outputs": [],
   "source": []
  }
 ],
 "metadata": {
  "kernelspec": {
   "display_name": "Python 3",
   "language": "python",
   "name": "python3"
  },
  "language_info": {
   "codemirror_mode": {
    "name": "ipython",
    "version": 3
   },
   "file_extension": ".py",
   "mimetype": "text/x-python",
   "name": "python",
   "nbconvert_exporter": "python",
   "pygments_lexer": "ipython3",
   "version": "3.9.2"
  },
  "toc-autonumbering": false,
  "toc-showcode": false,
  "toc-showmarkdowntxt": false
 },
 "nbformat": 4,
 "nbformat_minor": 5
}
