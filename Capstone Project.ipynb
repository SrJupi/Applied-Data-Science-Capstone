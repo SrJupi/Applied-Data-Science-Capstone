{
 "cells": [
  {
   "cell_type": "markdown",
   "id": "fab0476d-2697-4628-8345-46cb51664b01",
   "metadata": {},
   "source": [
    "# Report on Beach Venues"
   ]
  },
  {
   "cell_type": "markdown",
   "id": "3a8d1c48-3d50-49c5-8ba4-f89982416345",
   "metadata": {},
   "source": [
    "## Introduction\n",
    "During summer vacation is common to go to beaches and their seaside venues and enjoy the warm weather. Many famous beaches nowadays have been developing during many years and are in a continuos process of renewing and improving its venues.<br>\n",
    "Our report aims to evaluate the top beaches of the world and the kind of venues they have in common, helping guide future beach developers/city planners to invest in best venues to increase turism."
   ]
  },
  {
   "cell_type": "markdown",
   "id": "7a5e82ea-13c9-4d4a-8325-cbc35576b471",
   "metadata": {},
   "source": [
    "## Data Description\n",
    "Data will be collected from different sources:\n",
    "* To identify the best beaches in the world, data will be collected from the website TripAdvisor. Anually they make a traveller choice award that rank the best turist attractions around the world. For this report will be used the Travellers' Choice 2021 top beaches in the world and in each region [1].\n",
    "* To identify the best venues in each beach will be used Foursquare API [2].\n",
    "* Beaches are going to be grouped by venues similarities, creating different kinds of beaches categories that can be choose to atract tourists."
   ]
  },
  {
   "cell_type": "markdown",
   "id": "6b6ef587-f987-43e8-b84e-bec5180044d6",
   "metadata": {},
   "source": [
    "## Methodology"
   ]
  },
  {
   "cell_type": "markdown",
   "id": "cf5edb4c-9f5d-4beb-876c-d4342a47a3c0",
   "metadata": {},
   "source": [
    "## Results"
   ]
  },
  {
   "cell_type": "markdown",
   "id": "75b77397-4117-4ba1-bdd4-d9fecc22a004",
   "metadata": {},
   "source": [
    "## Discussion"
   ]
  },
  {
   "cell_type": "markdown",
   "id": "cf9761b5-d113-4907-9516-b53989432291",
   "metadata": {},
   "source": [
    "## Conclusion"
   ]
  },
  {
   "cell_type": "markdown",
   "id": "b780a474-579c-4a47-94ea-b0890441ebbc",
   "metadata": {},
   "source": [
    "## References\n",
    "[1] Tripadvisor - Travellers' Choice 2021:\n",
    "* [World](https://www.tripadvisor.com.br/TravelersChoice-Beaches-cTop-g1)\n",
    "* [Caribbean](https://www.tripadvisor.com.br/TravelersChoice-Beaches-cTop-g147237)\n",
    "* [Mexico](https://www.tripadvisor.com.br/TravelersChoice-Beaches-cTop-g150768)\n",
    "* [United States](https://www.tripadvisor.com.br/TravelersChoice-Beaches-cTop-g191)\n",
    "* [South America](https://www.tripadvisor.com.br/TravelersChoice-Beaches-cTop-g13)\n",
    "* [Europe](https://www.tripadvisor.com.br/TravelersChoice-Beaches-cTop-g4)\n",
    "* [South Pacific](https://www.tripadvisor.com.br/TravelersChoice-Beaches-cTop-g8)\n",
    "* [Africa](https://www.tripadvisor.com.br/TravelersChoice-Beaches-cTop-g6)\n",
    "* [Asia](https://www.tripadvisor.com.br/TravelersChoice-Beaches-cTop-g2)\n",
    "\n",
    "[2] [FourSquare API](https://developer.foursquare.com/)"
   ]
  },
  {
   "cell_type": "code",
   "execution_count": null,
   "id": "d4e6c30d-61fa-464f-a7aa-c9ab1eeefe8a",
   "metadata": {},
   "outputs": [],
   "source": []
  }
 ],
 "metadata": {
  "kernelspec": {
   "display_name": "Python 3",
   "language": "python",
   "name": "python3"
  },
  "language_info": {
   "codemirror_mode": {
    "name": "ipython",
    "version": 3
   },
   "file_extension": ".py",
   "mimetype": "text/x-python",
   "name": "python",
   "nbconvert_exporter": "python",
   "pygments_lexer": "ipython3",
   "version": "3.9.2"
  }
 },
 "nbformat": 4,
 "nbformat_minor": 5
}
