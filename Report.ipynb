{
 "cells": [
  {
   "cell_type": "markdown",
   "id": "56ee99f9-84b0-4848-8bec-56ec3aaa06e2",
   "metadata": {},
   "source": [
    "# Report on Beach Venues"
   ]
  },
  {
   "cell_type": "markdown",
   "id": "a3950762-fc5d-4404-a105-5c2da97822a9",
   "metadata": {},
   "source": [
    "## Introduction\n",
    "During summer vacation is common to go to beaches and their seaside venues and enjoy the warm weather. Many famous beaches nowadays have been developing during many years and are in a continuos process of renewing and improving its venues.<br>\n",
    "Our report aims to evaluate the top beaches of the world and the kind of venues they have in common, helping guide future beach developers/city planners to invest in best venues to increase turism."
   ]
  },
  {
   "cell_type": "markdown",
   "id": "491ac7cf-9c6d-4ba5-ac89-5933054a245c",
   "metadata": {},
   "source": [
    "## Data Description\n",
    "Data will be collected from different sources:\n",
    "* To identify the best beaches in the world, data will be collected from the website TripAdvisor. Anually they make a traveller choice award that rank the best turist attractions around the world. For this report will be used the Travellers' Choice 2021 top beaches in the world and in each region [1].\n",
    "* To geocode beaches location was used GoogleMapsAPI [2].\n",
    "* To identify the best venues in each beach will be used Foursquare API [3].\n",
    "* Beaches are going to be grouped by venues similarities, creating different kinds of beaches categories that can be choose to atract tourists."
   ]
  },
  {
   "cell_type": "markdown",
   "id": "fc714d84-5347-46eb-aa66-42a40148fe6e",
   "metadata": {},
   "source": [
    "## Methodology\n",
    "### Importing CSV data\n",
    "The beaches database was a previously created CSV with the data from TripAdvisor Travellers' Choice 2021 top beaches in the world and in each region [1]. It was converted in a Pandas DataFrame.<br>\n",
    "<img src=\"original database.png\">\n",
    "\n",
    "### Geocoding data\n",
    "As the database didn't have coordinates it was used GoogleMapsAPI [2] to geocode the addresses (Beach Name plus Location). It was checked if were any empty/NaN value on the coordinates, but the geocoding could find coordinated to all beaches.<br>\n",
    "<img src=\"database com gps.png\">\n",
    "\n",
    "As every beach had its own coordinates it was used folium library to create a world map with the beaches locations. <br>\n",
    "<img src=\"mapa1.png\">\n",
    "\n",
    "As expected most beaches on the list are near or around the tropical area. There are two big cluster of beaches (Caribbean and Mediterranean) that are worldly renowned. And it is also possible to see that beaches in the Southern Hemisphere (South America, Africa and Oceania) are under represented on this dataset.<br>\n",
    "\n",
    "### Exploring venues on FourSquare API\n",
    "Using FourSquare API [3] it was explored the venues in each beach in a 1000m radius and a limit of 100 venuesfrom the central point of each beach. This distance was selected because 1km is a confortable distance to walk for most people and because almost half of this search area would be inside water in any coastal point.<br>\n",
    "<img src=\"foursquare1.png\">\n",
    "\n",
    "Analysing the venue data extracted from FourSquare API it was possible to see that many venues are the beaches themselves and some of the beaches are so isolated that did not return any venue at all (141 beaches in the dataset x 133 beaches with venues found). So it was excluded all venues categories that are beaches and all beaches from the original data set that do not have venues were grouped on a venue category named Only Beaches.<br>\n",
    "Besides that it was possible to analyse the venues categories and to exclude some categories that do not fit our problem. For exemple: it was excluded any accomodation (as hotel or resort) and hotel venues (as hotel bar or hotel pool) because these venues are generally exclusive and tourists usually do not change hotels in a single vacation.<br>\n",
    "<img src=\"foursquare2.png\">\n",
    "\n",
    "After data cleaning it was found that 119 beaches of 141 have some kind of commercial venue. These venues are divided in 301 uniques categories, showing a great diversity of venues.<br>\n",
    "\n",
    "### Clustering beaches\n",
    "To help classify and clusterize the beaches were selected the top 10 venues from each beach.<br>\n",
    "<img src=\"top10.png\">\n",
    "\n",
    "To clusterize the beaches it was used unsupervised learning K-means algorithm. To determine the optimal k value was used the elbow method. <br>\n",
    "<img src=\"elbow.png\">\n",
    "\n",
    "With this method it was defined k value of 3 for the K-means alghorithm that resulted in the following distribution:<br>\n",
    "<img src=\"clusters.png\">\n",
    "\n",
    "As cluster 2 have only one beach it was further investigated to evaluete if this result is a outlier:<br>\n",
    "<img src=\"cluster2.png\">\n",
    "\n",
    "As can be viewed in the data, cluster 2 is a outlier because it have only one and a very especific kind of venue (Clothing Store). Because of that this beach should be considered as part of the \"Only Beaches\" cluster (cluster 3). "
   ]
  },
  {
   "cell_type": "markdown",
   "id": "0e2ae510-5cb9-4785-affd-1e73accbdd17",
   "metadata": {},
   "source": [
    "## Results\n",
    "The resulting clusters were joined in a single table with the original data:\n",
    "<img src=\"clusterscomp.png\">\n",
    "\n",
    "Analyzing the clusters data it is possible to verify 3 kinds of beaches and 1 outlier:<br>\n",
    "* Cluster 0 - <b>Smaller beaches</b>: there are 15 beaches in this classification. They have few venues but are more focused on food venus (restaurants).\n",
    "* Cluster 1 - <b>Bigger beaches</b>: there are 103 beaches in this classification. They have a lot of venues, as Cluster 0 they also are focused on food venues but with more especialized restaurants (ethnics).\n",
    "* Cluster 2 - <b>Outlier</b>: there are only one beach in this classification. The only venue found on these beach is a Clothing Store, making it being clustered alone.\n",
    "* Cluster 3 - <b>Nature beaches</b>: there are 22 beaches in this classification. These beaches don't have venues nearby, being usualy preserved places.\n",
    "\n",
    "The resulting map shows little difference of clusters based on location, so this help to support the idea that the clusters were formed because of different levels in beach development/size. The beaches in cluster 3 are located in well known nature paradises (as Australia and Caribbean).\n",
    "<img src=\"mapa2.png\">\n",
    "\n",
    "<b>Legend:</b> Cluter 0 (red), Cluster 1 (purple), Cluster 2 (cyan), Cluster 3 (yellow)"
   ]
  },
  {
   "cell_type": "markdown",
   "id": "3b36285f-be89-4d4d-b5d3-9bac536310a4",
   "metadata": {},
   "source": [
    "## Discussion\n",
    "\n",
    "As was our aims to evaluate the top beaches of the world and the kind of venues they have in common, we could distinguish between three kind of beaches: natural and without venues, small beaches with a low number of venues and big beaches with a high number of beaches. In the beggining of this work it was thought that these top beaches would differ more from one another, like having more party beaches (with bars and drinking venues) to family beaches (with restaurants and friendly ammenities). But want was found is that these top beaches have a more homogeneous kind of venues, focusing primarily on restaurants.<br>\n",
    "The main difference between cluster 0 (smaller beaches) and cluster 1 (bigger beaches) are the kind of restaurant presents. In cluster 0 most venues were classified more generic as Restaurants, on the other hand cluster 1 showed a more especialized cousine (like Caribbean food or Seafood restaurants). It show a clearly pattern of development where smaller beaches do not have enough competition between venues or enough tourists to justify having a lot of diverse restaurants."
   ]
  },
  {
   "cell_type": "markdown",
   "id": "06046f6d-373b-40ec-9912-71e66d97861f",
   "metadata": {},
   "source": [
    "## Conclusion\n",
    "\n",
    "From our study is possible to recommend investing in restaurant as a main venue attraction on these kind of beaches. The investor should consider how many restaurants already exists and the quantity of venues presents on the beach. Having to decide between a more specialized or a more generic kind of restaurant.<br>\n",
    "Future studies could compare these results with venues in lesser known beaches to see if this pattern also happen."
   ]
  },
  {
   "cell_type": "markdown",
   "id": "94b07d18-cf04-4d82-b066-358a8f4e4f41",
   "metadata": {},
   "source": [
    "## References\n",
    "[1] Tripadvisor - Travellers' Choice 2021:\n",
    "* [World](https://www.tripadvisor.com.br/TravelersChoice-Beaches-cTop-g1)\n",
    "* [Caribbean](https://www.tripadvisor.com.br/TravelersChoice-Beaches-cTop-g147237)\n",
    "* [Mexico](https://www.tripadvisor.com.br/TravelersChoice-Beaches-cTop-g150768)\n",
    "* [United States](https://www.tripadvisor.com.br/TravelersChoice-Beaches-cTop-g191)\n",
    "* [South America](https://www.tripadvisor.com.br/TravelersChoice-Beaches-cTop-g13)\n",
    "* [Europe](https://www.tripadvisor.com.br/TravelersChoice-Beaches-cTop-g4)\n",
    "* [South Pacific](https://www.tripadvisor.com.br/TravelersChoice-Beaches-cTop-g8)\n",
    "* [Africa](https://www.tripadvisor.com.br/TravelersChoice-Beaches-cTop-g6)\n",
    "* [Asia](https://www.tripadvisor.com.br/TravelersChoice-Beaches-cTop-g2)\n",
    "\n",
    "[2] [GoogleMapsAPI](https://developers.google.com/maps)\n",
    "\n",
    "[3] [FourSquare API](https://developer.foursquare.com/)"
   ]
  }
 ],
 "metadata": {
  "kernelspec": {
   "display_name": "",
   "name": ""
  },
  "language_info": {
   "name": ""
  }
 },
 "nbformat": 4,
 "nbformat_minor": 5
}
