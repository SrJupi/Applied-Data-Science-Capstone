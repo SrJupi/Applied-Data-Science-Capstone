{
 "cells": [
  {
   "cell_type": "markdown",
   "id": "e48ed99b-46bf-45b6-be09-d2fdbd09d60e",
   "metadata": {},
   "source": [
    "# Applied Data Science Capstone\n",
    "Final project for IBM courses"
   ]
  },
  {
   "cell_type": "code",
   "execution_count": 1,
   "id": "778f2690-3800-400d-b0f0-4a32e43a2dd8",
   "metadata": {},
   "outputs": [],
   "source": [
    "#pandas and numpy already installed\n",
    "import pandas as pd\n",
    "import numpy as np"
   ]
  },
  {
   "cell_type": "code",
   "execution_count": 2,
   "id": "ce60728b-adda-4c49-bccf-48de06990eec",
   "metadata": {},
   "outputs": [
    {
     "name": "stdout",
     "output_type": "stream",
     "text": [
      "Hello Capstone Project Course!\n"
     ]
    }
   ],
   "source": [
    "print('Hello Capstone Project Course!')"
   ]
  },
  {
   "cell_type": "code",
   "execution_count": null,
   "id": "33e38fd9-d19a-4e20-87d2-62ba6a6f96ee",
   "metadata": {},
   "outputs": [],
   "source": []
  }
 ],
 "metadata": {
  "kernelspec": {
   "display_name": "Python 3",
   "language": "python",
   "name": "python3"
  },
  "language_info": {
   "codemirror_mode": {
    "name": "ipython",
    "version": 3
   },
   "file_extension": ".py",
   "mimetype": "text/x-python",
   "name": "python",
   "nbconvert_exporter": "python",
   "pygments_lexer": "ipython3",
   "version": "3.9.2"
  }
 },
 "nbformat": 4,
 "nbformat_minor": 5
}
